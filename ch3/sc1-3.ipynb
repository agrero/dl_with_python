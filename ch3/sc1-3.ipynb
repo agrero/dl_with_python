{
 "cells": [
  {
   "attachments": {},
   "cell_type": "markdown",
   "metadata": {},
   "source": [
    "# Setting up a Deep Learning Workstation"
   ]
  },
  {
   "attachments": {},
   "cell_type": "markdown",
   "metadata": {},
   "source": [
    "## Imports"
   ]
  },
  {
   "cell_type": "code",
   "execution_count": null,
   "metadata": {},
   "outputs": [],
   "source": [
    "from keras import layers, models, optimizers"
   ]
  },
  {
   "attachments": {},
   "cell_type": "markdown",
   "metadata": {},
   "source": [
    "## Neural Network Definition\n",
    "### Notes\n",
    "- The input shape is of (784, ) the blank spot infers any size will be accepted\n",
    "subsequent layers input shape are inferred and not needed to function\n",
    "\n",
    "- Loss Functions\n",
    "    - binary-crossentropy\n",
    "        - two-class classifiction\n",
    "    - categorical crossentropy\n",
    "        - many-class classification\n",
    "    - mean seqaured error  \n",
    "        - regression\n",
    "    - connectionist temporal classification\n",
    "        - sequence-learning problem (picking the next item in a sequence based on previous elements)\n",
    "\n",
    "#### Typical Keras Workflow\n",
    "1) Defining your training data: input tesnors and target tensors\n",
    "2) Define a netowrk of layers (or model) that maps your inputs to your targets\n",
    "3) Configure the learning process by choosing a loss function, an optimizer, and some metrics to monitor\n",
    "4) Iterate on your training data by calling the fit() method of your model"
   ]
  },
  {
   "cell_type": "code",
   "execution_count": null,
   "metadata": {},
   "outputs": [],
   "source": [
    "# defining the model\n",
    "model = models.Sequential()\n",
    "\n",
    "# adding learning layers\n",
    "model.add(layers.Dense(32, activation='relu', input_shape=(784,)))\n",
    "model.add(layers.Dense(10, activation='softmax'))\n",
    "\n",
    "# compiling the model\n",
    "model.compile(optimizer=optimizers.RMSprop(lr=0.001),\n",
    "              loss='mse',\n",
    "              metrics=['accuracy'])\n",
    "\n",
    "# fitting the model\n",
    "model.fit('input_tensor', 'target_tensor', batch_size=128, epochs=10)"
   ]
  }
 ],
 "metadata": {
  "language_info": {
   "name": "python"
  },
  "orig_nbformat": 4
 },
 "nbformat": 4,
 "nbformat_minor": 2
}
