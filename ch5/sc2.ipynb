{
 "cells": [
  {
   "attachments": {},
   "cell_type": "markdown",
   "metadata": {},
   "source": [
    "# Training a covnet from scratch on a small dataset"
   ]
  },
  {
   "attachments": {},
   "cell_type": "markdown",
   "metadata": {},
   "source": [
    "## Imports\n"
   ]
  },
  {
   "cell_type": "code",
   "execution_count": 1,
   "metadata": {},
   "outputs": [],
   "source": [
    "import os, shutil"
   ]
  },
  {
   "attachments": {},
   "cell_type": "markdown",
   "metadata": {},
   "source": [
    "## Splitting the Training and Testing Data From a Directory"
   ]
  },
  {
   "attachments": {},
   "cell_type": "markdown",
   "metadata": {},
   "source": [
    "### creating directories"
   ]
  },
  {
   "cell_type": "code",
   "execution_count": 8,
   "metadata": {},
   "outputs": [
    {
     "name": "stdout",
     "output_type": "stream",
     "text": [
      "c:\\coding-projects\\dl_with_python\\datasets\\cats-vs-dogs-small already exists\n",
      "c:\\coding-projects\\dl_with_python\\datasets\\cats-vs-dogs-small\\train already exists\n",
      "c:\\coding-projects\\dl_with_python\\datasets\\cats-vs-dogs-small\\validation already exists\n",
      "c:\\coding-projects\\dl_with_python\\datasets\\cats-vs-dogs-small\\test already exists\n",
      "c:\\coding-projects\\dl_with_python\\datasets\\cats-vs-dogs-small\\train\\cats already exists\n",
      "c:\\coding-projects\\dl_with_python\\datasets\\cats-vs-dogs-small\\train\\dogs already exists\n",
      "c:\\coding-projects\\dl_with_python\\datasets\\cats-vs-dogs-small\\validation\\cats already exists\n",
      "c:\\coding-projects\\dl_with_python\\datasets\\cats-vs-dogs-small\\validation\\dogs already exists\n",
      "c:\\coding-projects\\dl_with_python\\datasets\\cats-vs-dogs-small\\test\\dogs already exists\n",
      "c:\\coding-projects\\dl_with_python\\datasets\\cats-vs-dogs-small\\test\\cats already exists\n"
     ]
    }
   ],
   "source": [
    "parent_dir = os.path.join('c:\\\\', 'coding-projects', 'dl_with_python')\n",
    "orig_train_data = os.path.join(parent_dir,'datasets', 'cats-vs-dogs', 'train')\n",
    "orig_test_data = os.path.join(parent_dir, 'datasets', 'cats-vs-dogs', 'test1')\n",
    "base_dir = os.path.join(parent_dir,'datasets', 'cats-vs-dogs-small')\n",
    "\n",
    "# notebook proofing\n",
    "try:\n",
    "    os.mkdir(base_dir)\n",
    "except:\n",
    "    print(f'{base_dir} already exists')\n",
    "\n",
    "# make parent directories for test, val, and training data\n",
    "train_dir = os.path.join(base_dir, 'train')\n",
    "validation_dir = os.path.join(base_dir, 'validation')\n",
    "test_dir = os.path.join(base_dir, 'test')\n",
    "for i in [train_dir, validation_dir, test_dir]:\n",
    "    try:\n",
    "        os.mkdir(i)\n",
    "    except:\n",
    "        print(f'{i} already exists')\n",
    "# subsettign train, validation, and test directories\n",
    "train_cats_dir = os.path.join(train_dir, 'cats')\n",
    "train_dogs_dir = os.path.join(train_dir, 'dogs')\n",
    "for i in [train_cats_dir, train_dogs_dir]:\n",
    "    try:\n",
    "        os.mkdir(i)\n",
    "    except:\n",
    "        print(f'{i} already exists')\n",
    "val_cats_dir = os.path.join(validation_dir, 'cats')\n",
    "val_dogs_dir = os.path.join(validation_dir, 'dogs')\n",
    "for i in [val_cats_dir, val_dogs_dir]:\n",
    "    try:\n",
    "        os.mkdir(i)\n",
    "    except:\n",
    "        print(f'{i} already exists')\n",
    "test_dogs_dir = os.path.join(test_dir, 'dogs')\n",
    "test_cats_dir = os.path.join(test_dir, 'cats')\n",
    "for i in [test_dogs_dir, test_cats_dir]:\n",
    "    try:\n",
    "        os.mkdir(i)\n",
    "    except:\n",
    "        print(f'{i} already exists')"
   ]
  },
  {
   "attachments": {},
   "cell_type": "markdown",
   "metadata": {},
   "source": [
    "### copying files"
   ]
  },
  {
   "cell_type": "code",
   "execution_count": 20,
   "metadata": {},
   "outputs": [],
   "source": [
    "# split numbers\n",
    "tot_no_samples = 2000\n",
    "no_train_samples = tot_no_samples * 0.5\n",
    "no_val_samples = tot_no_samples * 0.25\n",
    "no_test_samples = tot_no_samples * 0.25\n",
    "\n",
    "no_train_and_val = no_train_samples + no_val_samples"
   ]
  },
  {
   "cell_type": "code",
   "execution_count": 21,
   "metadata": {},
   "outputs": [],
   "source": [
    "# moving the cats\n",
    "## cat training \n",
    "fnames = [f'cat.{i}.jpg' for i in range(int(no_train_samples))]\n",
    "for fname in fnames:\n",
    "    src = os.path.join(orig_train_data, fname)\n",
    "    dst = os.path.join(train_cats_dir, fname)\n",
    "    try:\n",
    "        shutil.copyfile(src, dst)\n",
    "    except:\n",
    "        print(f'{fname} already exists in the destination')\n",
    "## cat validation\n",
    "fnames = [f'cat.{i}.jpg' for i in range(int(no_train_samples), int(no_val_samples+no_train_samples))]\n",
    "for fname in fnames:\n",
    "    src = os.path.join(orig_train_data, fname)\n",
    "    dst = os.path.join(val_cats_dir, fname)\n",
    "    try:\n",
    "        shutil.copyfile(src, dst)\n",
    "    except:\n",
    "        print(f'{fname} already exists in the destination')\n",
    "\n",
    "## cat testing\n",
    "fnames = [f'cat.{i}.jpg' for i in range(int(no_train_and_val), tot_no_samples)]\n",
    "for fname in fnames:\n",
    "    src = os.path.join(orig_train_data, fname)\n",
    "    dst = os.path.join(test_cats_dir, fname)\n",
    "    try: \n",
    "        shutil.copyfile(src, dst)\n",
    "    except:\n",
    "        print(f'{fname} alread exist in the destination')"
   ]
  },
  {
   "cell_type": "code",
   "execution_count": null,
   "metadata": {},
   "outputs": [],
   "source": []
  }
 ],
 "metadata": {
  "kernelspec": {
   "display_name": "Python 3",
   "language": "python",
   "name": "python3"
  },
  "language_info": {
   "codemirror_mode": {
    "name": "ipython",
    "version": 3
   },
   "file_extension": ".py",
   "mimetype": "text/x-python",
   "name": "python",
   "nbconvert_exporter": "python",
   "pygments_lexer": "ipython3",
   "version": "3.9.13"
  },
  "orig_nbformat": 4
 },
 "nbformat": 4,
 "nbformat_minor": 2
}
